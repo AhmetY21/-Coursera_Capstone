{
 "cells": [
  {
   "cell_type": "markdown",
   "metadata": {},
   "source": [
    "# Fire Stations Decision Support System"
   ]
  },
  {
   "cell_type": "markdown",
   "metadata": {},
   "source": [
    "## Introduction: Business "
   ]
  },
  {
   "cell_type": "markdown",
   "metadata": {},
   "source": [
    "Fire cause many deaths and damage in cities. Although there are cutting edge  systems which detect fire at the beginning, if the fire is large scale, the response time of fire stations is very curicial for avoiding deaths and more damage. In order to minimize the response time we will investigate the location data and the coverage area of the fire stations of NYC.\n",
    "  "
   ]
  },
  {
   "cell_type": "markdown",
   "metadata": {},
   "source": [
    "Nowadays, lots of cities share their data by public, for example NYC share their data on data.cityofnewyork.us and there exact locations of the fire stations and equipments.\n",
    "   "
   ]
  },
  {
   "cell_type": "markdown",
   "metadata": {},
   "source": [
    "At the end of the project we are aim to identify places which has low fire station level. The local goverments and retailer companies will be interested in this project. Since they can take action for increasing coverage."
   ]
  },
  {
   "cell_type": "markdown",
   "metadata": {},
   "source": [
    "For this project we need a city which has more than one fire station and their geospatial locations."
   ]
  },
  {
   "cell_type": "code",
   "execution_count": null,
   "metadata": {
    "collapsed": true
   },
   "outputs": [],
   "source": []
  }
 ],
 "metadata": {
  "anaconda-cloud": {},
  "kernelspec": {
   "display_name": "Python [conda root]",
   "language": "python",
   "name": "conda-root-py"
  },
  "language_info": {
   "codemirror_mode": {
    "name": "ipython",
    "version": 3
   },
   "file_extension": ".py",
   "mimetype": "text/x-python",
   "name": "python",
   "nbconvert_exporter": "python",
   "pygments_lexer": "ipython3",
   "version": "3.5.2"
  }
 },
 "nbformat": 4,
 "nbformat_minor": 1
}
